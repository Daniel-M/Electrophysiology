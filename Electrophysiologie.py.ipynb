{
 "cells": [
  {
   "cell_type": "markdown",
   "metadata": {},
   "source": [
    "# With a csv fichier  do a dico list (eatch line)"
   ]
  },
  {
   "cell_type": "code",
   "execution_count": 1,
   "metadata": {
    "collapsed": false
   },
   "outputs": [
    {
     "name": "stdout",
     "output_type": "stream",
     "text": [
      "K+\n"
     ]
    }
   ],
   "source": [
    "import numpy as np\n",
    "from scipy.integrate import odeint\n",
    "import matplotlib.pyplot as plt\n",
    "from pylab import *\n",
    "import csv\n",
    "\n",
    "def listdico (mon_fichier_csv):   \n",
    "    listdico=list()\n",
    "    csvfile = open(mon_fichier_csv,\"r\")\n",
    "    reader = csv.DictReader(csvfile , delimiter=' ')\n",
    "    for item in reader:\n",
    "        listdico.append(item)\n",
    "    return listdico\n",
    "    \n",
    "print (listdico('Ion.csv')[1]['name'])\n",
    "\n"
   ]
  },
  {
   "cell_type": "markdown",
   "metadata": {
    "collapsed": true
   },
   "source": [
    "# Menbrane Modelisation"
   ]
  },
  {
   "cell_type": "markdown",
   "metadata": {},
   "source": [
    "# Vrest=E\n",
    "For eatch Ions K+,Cl-,Na+  GHK Model\n"
   ]
  },
  {
   "cell_type": "code",
   "execution_count": 2,
   "metadata": {
    "collapsed": false
   },
   "outputs": [
    {
     "name": "stdout",
     "output_type": "stream",
     "text": [
      "-86.9367905537\n"
     ]
    }
   ],
   "source": [
    "\n",
    "\n",
    "\n",
    "#datas for a mammalian cell\n",
    "T=310 #kelvin\n",
    "R=1.98*4.2 #V*C/°K-mol\n",
    "F=96.480 #C/mol\n",
    "def Vrest (list_dico):\n",
    "    E = ((R*T)/F)*np.log((float(list_dico[1]['permeabilidad'])*float(list_dico[1]['Cout'])+float(list_dico[2]['permeabilidad'])*float(list_dico[2]['Cout'])+float(list_dico[3]['permeabilidad'])*float(list_dico[3]['Cin']))/(float(list_dico[1]['permeabilidad'])*float(list_dico[1]['Cin'])+float(list_dico[2]['permeabilidad'])*float(list_dico[2]['Cin'])+float(list_dico[3]['permeabilidad'])*float(list_dico[3]['Cout'])))\n",
    "    return (E)\n",
    "\n",
    "\n",
    "print(Vrest( listdico('Ion.csv') ))"
   ]
  },
  {
   "cell_type": "markdown",
   "metadata": {},
   "source": [
    "# With a data base( .csv)  do a vector of the Nerst's  equations"
   ]
  },
  {
   "cell_type": "code",
   "execution_count": 3,
   "metadata": {
    "collapsed": false
   },
   "outputs": [
    {
     "name": "stdout",
     "output_type": "stream",
     "text": [
      "[135.29254726617961, -89.037001855838184, 71.45365103934094, -88.555544699477451]\n"
     ]
    }
   ],
   "source": [
    "\n",
    "\n",
    "T=310 #kelvin\n",
    "R=1.98*4.2 #V*C/°K-mol\n",
    "F=96.480 #C/mol\n",
    "\n",
    "def VNerst (list_dico):\n",
    "    Vnerst=list()\n",
    "    for i in range (len(list_dico)):\n",
    "        Vnerst.append((R*T)/(F*(float(list_dico[i]['valence'])))*np.log((float(list_dico[i]['Cout'])/(float(list_dico[i]['Cin'])))))\n",
    "              \n",
    "       \n",
    "    return Vnerst \n",
    "\n",
    "print(VNerst(listdico('Ion.csv')))\n"
   ]
  },
  {
   "cell_type": "markdown",
   "metadata": {},
   "source": [
    "# Solution for a simple RC \n"
   ]
  },
  {
   "cell_type": "code",
   "execution_count": 4,
   "metadata": {
    "collapsed": false
   },
   "outputs": [
    {
     "data": {
      "image/png": "[encoded data removed]",
      "text/plain": [
       "<matplotlib.figure.Figure at 0x7f0047368828>"
      ]
     },
     "metadata": {},
     "output_type": "display_data"
    }
   ],
   "source": [
    "import numpy as np\n",
    "import matplotlib.pyplot as plt\n",
    "\n",
    "#Rm = input (\"Rm=\")\n",
    "Cm=10**(-6)  #F/cm²\n",
    "#Istimulation = input (\"Istimulation=\")\n",
    "#print (Rm)\n",
    "#print(Istimulation)\n",
    "Istimulation=1.4*10**(-2) # incorect value\n",
    "Rm=3*10**(3)             #incorect value\n",
    "\n",
    "Vinf = ( float(Istimulation)*float(Rm))\n",
    "\n",
    "def RC ( Istimulation, timestimulation, timeexperience ):\n",
    "    t=0\n",
    "    time = []\n",
    "    Vmen = []    \n",
    "    while t < timeexperience :\n",
    "        t=t + 0.00001\n",
    "            \n",
    "        if t < timestimulation :\n",
    "            Vm = float(Vinf)*(1-((np.exp((-t)/(float(Rm)*float(Cm))))));\n",
    "            time.append(t);\n",
    "            Vmen.append(Vm);\n",
    "        \n",
    "        else :\n",
    "            Vm1 = ((float(Vm))*(np.exp((-t+timestimulation)/(float(Rm)*float(Cm)))));\n",
    "            time.append(t);\n",
    "            Vmen.append(Vm1);\n",
    "            \n",
    "    return (time, Vmen)\n",
    "        \n",
    "\n",
    "          \n",
    "results = RC(Istimulation, 0.04, 0.06)\n",
    "t = results[0]\n",
    "V= results[1]\n",
    "plt.plot( t,V)\n",
    "plt.show()  "
   ]
  },
  {
   "cell_type": "markdown",
   "metadata": {},
   "source": [
    "# Passive Menbrane model:\n",
    "\n",
    "$$\n",
    " V_{passive}=\n",
    "\\left\\{\n",
    "\\begin{array}{l c} \n",
    "(E-V_{\\infty})e^{(-t/RC)}+V_{\\infty} & 0 < t < T \\\\\n",
    "(V_{0}-E)e^{(-t-T)/RC}+E & T < t \n",
    "\\end{array}\n",
    "\\right.\n",
    "$$"
   ]
  },
  {
   "cell_type": "code",
   "execution_count": 5,
   "metadata": {
    "collapsed": false
   },
   "outputs": [
    {
     "data": {
      "image/png": "[encoded data removed]",
      "text/plain": [
       "<matplotlib.figure.Figure at 0x7f0047368128>"
      ]
     },
     "metadata": {},
     "output_type": "display_data"
    }
   ],
   "source": [
    "def Vpassive ( Istimulation, timestimulation, timeexperience ):\n",
    "    E= Vrest( listdico('Ion.csv') )\n",
    "    t=0\n",
    "    time = []\n",
    "    Vmen = []    \n",
    "    while t < timeexperience :\n",
    "        t=t + 0.0001\n",
    "            \n",
    "        if t < timestimulation :\n",
    "            Vm = (float(E)-float(Vinf))*((np.exp((-t)/(float(Rm)*float(Cm)))))+float(Vinf);\n",
    "            time.append(t);\n",
    "            Vmen.append(Vm);\n",
    "        \n",
    "        else :\n",
    "            Vm1 = (float(Vm)-E)*(np.exp((-t+timestimulation)/(float(Rm)*float(Cm))))+E;\n",
    "            time.append(t);\n",
    "            Vmen.append(Vm1);\n",
    "            \n",
    "    return (time, Vmen)\n",
    "\n",
    "results = Vpassive (Istimulation, 0.02, 0.04)\n",
    "t = results[0]\n",
    "V= results[1]\n",
    "plt.plot( t,V)\n",
    "plt.show()  \n"
   ]
  },
  {
   "cell_type": "markdown",
   "metadata": {},
   "source": [
    "# Passive menbrane potentiel for eatch Ion\n",
    "\n",
    "VpassiveIon"
   ]
  },
  {
   "cell_type": "code",
   "execution_count": 6,
   "metadata": {
    "collapsed": false
   },
   "outputs": [],
   "source": [
    "\n",
    "\n",
    "\n",
    "def VpassiveIon ( Istimulation, timestimulation, timeexperience,i ):\n",
    "    VnerstIon= (VNerst( listdico('Ion.csv')) )\n",
    "    t=0\n",
    "    time = []\n",
    "    Vmen = []  \n",
    "    \n",
    "    while t < timeexperience :\n",
    "            t=t + 0.0001\n",
    "            if t < timestimulation :\n",
    "                Vm = (float(VnerstIon[i])-float(Vinf))*((np.exp((-t)/(float(Rm)*float(Cm)))))+float(Vinf);\n",
    "                time.append(t);\n",
    "                Vmen.append(Vm);\n",
    "            else :\n",
    "                Vm1 = (float(Vm)-float(VnerstIon[i]))*(np.exp((-t+timestimulation)/(float(Rm)*float(Cm))))+VnerstIon[i];\n",
    "                time.append(t);\n",
    "                Vmen.append(Vm1);\n",
    "\n",
    "    return (time, Vmen)\n",
    "#for i in range (len(VNerst(listdico('Ion.csv')))):\n",
    "#    results = VpassiveIon (Istimulation, 0.02, 0.04,i)\n",
    "#    t = results[0]\n",
    "#    V= results[1]\n",
    "#    print((listdico('Ion.csv')[i]['name']))\n",
    "#    plt.title('passive voltage menbrane for')\n",
    "#    plt.xlabel('time')\n",
    "#    plt.ylabel('voltage')\n",
    "#    plt.plot( t,V)\n",
    "#    plt.show() \n",
    "            "
   ]
  },
  {
   "cell_type": "markdown",
   "metadata": {
    "collapsed": true
   },
   "source": [
    "# Active menbrane\n",
    "\n",
    " Define constants (e.g., G L , g Na , g K , C m , dt) :\n",
    " \n",
    " Compute initial αs and βs:\n",
    " \n",
    " Compute initial conditions for state variables (e.g., V m rest , m, h, n):\n",
    " \n",
    " \n",
    " for (time=0 to time=end in increments of dt) :\n",
    " \n",
    " Compute Currents (e.g., I L , I Na , I K ) :\n",
    " \n",
    " Compute αs and βs :\n",
    " \n",
    " Update Differential Equations (V m , m, n, h) :\n",
    " Save values of interest into an array (e.g., V m ) :\n",
    " end \n",
    " Store values of interest to a file \n",
    "\n",
    "$$\n",
    "\\ I_{stim} = I_{Cm}+I_{Ions}=I_{Cm}+I_{Na}+I_{K}+I_{leak} \\\\\n",
    "\\ I_{stim} = C_{m}({dV_{m}}/dt)+g_{Na}(m^3)h(V_{m})[V_{m}-E_{Na}]+g_{K}(n^4)(V_{m})[V_{m}-E_{K}]+g_{leak}[V_{m}-E_{leak}] \\\\\n",
    "\\begin{array}{l c} \n",
    "\\frac{dm}{dt} = \\alpha_{m}(1-m)- \\beta_{m} m = \\frac{m_{\\infty}-m}{\\tau_{m}} &  \\tau_{m}= \\frac{1}{\\alpha_{m}-\\beta_{m}} \\\\ \n",
    "\\ m_{\\infty}= \\frac{\\alpha_{m}}{\\alpha_{m} + \\beta_{m}} \\\\\n",
    "\\ \\beta_{m}= 4e^{(-V_{m}/18)} & \\alpha_{m}= \\frac{2.5-0.1(V_{m}-V{rest})}{e^{2.5-0.1(V_{m}-V{rest})}-1} \\\\\n",
    "\\frac{dh}{dt} = \\alpha_{h}(1-h)- \\beta_{h} h = \\frac{h_{\\infty}-h}{ \\tau_{h}} & \\tau_{h}= \\frac{1}{\\alpha_{h}-\\beta_{h}} \\\\\n",
    "\\ h_{\\infty}= \\frac{\\alpha_{h}}{\\alpha_{h} + \\beta_{h}} \\\\\n",
    "\\ \\beta_{h}= \\frac{1}{e^{(30-(V_{m}-V{rest})))/10}+1} & \\alpha_{h}=0.07 e^{(V_{m}-V{rest})/20} \\\\\n",
    "\\frac{dn}{dt} = \\alpha_{n}(1-n)- \\beta_{n} n = \\frac{n_{\\infty}-n}{ \\tau_{n}} & \\tau_{n}= \\frac{1}{\\alpha_{n}-\\beta_{n} }\\\\\n",
    "\\ n_{\\infty}= \\frac{\\alpha_{n}}{\\alpha_{n} + \\beta_{n}} \\\\\n",
    "\\ \\beta_{n}= 0.125e^{(-(V_{m}-V{rest})/80} & \\alpha_{n}=0.01 \\frac{10-(V_{m}-V{rest})}{e^{(1-0.1(V_{m}-V{rest})))}-1} \\\\\n",
    "\\ V_{m}(t=0)=V_{rest} => V_{m}(t=0)-V_{rest}=0 \\\\\n",
    "\\ m(t=0) = m( t= \\infty )=0.05 & h(t=0) =n(t= \\infty )=0.6 \\\\\n",
    "\\end{array}\n",
    "$$\n"
   ]
  },
  {
   "cell_type": "code",
   "execution_count": 1,
   "metadata": {
    "collapsed": false,
    "scrolled": true
   },
   "outputs": [
    {
     "ename": "NameError",
     "evalue": "name 'Vrest' is not defined",
     "output_type": "error",
     "traceback": [
      "\u001b[0;31m---------------------------------------------------------------------------\u001b[0m",
      "\u001b[0;31mNameError\u001b[0m                                 Traceback (most recent call last)",
      "\u001b[0;32m<ipython-input-1-e1f70f549d79>\u001b[0m in \u001b[0;36m<module>\u001b[0;34m()\u001b[0m\n\u001b[1;32m     13\u001b[0m \u001b[0mm0\u001b[0m\u001b[0;34m=\u001b[0m\u001b[0;36m0.05\u001b[0m\u001b[0;34m\u001b[0m\u001b[0m\n\u001b[1;32m     14\u001b[0m \u001b[0mIstim\u001b[0m\u001b[0;34m=\u001b[0m\u001b[0;36m1.4\u001b[0m\u001b[0;34m\u001b[0m\u001b[0m\n\u001b[0;32m---> 15\u001b[0;31m \u001b[0mVmrest\u001b[0m\u001b[0;34m=\u001b[0m\u001b[0mVrest\u001b[0m\u001b[0;34m(\u001b[0m \u001b[0mlistdico\u001b[0m\u001b[0;34m(\u001b[0m\u001b[0;34m'Ion.csv'\u001b[0m\u001b[0;34m)\u001b[0m \u001b[0;34m)\u001b[0m\u001b[0;34m\u001b[0m\u001b[0m\n\u001b[0m\u001b[1;32m     16\u001b[0m \u001b[0;34m\u001b[0m\u001b[0m\n\u001b[1;32m     17\u001b[0m \u001b[0;32mdef\u001b[0m \u001b[0mdgdt\u001b[0m\u001b[0;34m(\u001b[0m\u001b[0mgate\u001b[0m\u001b[0;34m,\u001b[0m\u001b[0mt\u001b[0m\u001b[0;34m,\u001b[0m\u001b[0ma\u001b[0m\u001b[0;34m,\u001b[0m\u001b[0mb\u001b[0m\u001b[0;34m)\u001b[0m\u001b[0;34m:\u001b[0m\u001b[0;34m\u001b[0m\u001b[0m\n",
      "\u001b[0;31mNameError\u001b[0m: name 'Vrest' is not defined"
     ]
    }
   ],
   "source": [
    "% matplotlib inline\n",
    "from scipy.integrate import odeint\n",
    "import numpy as np\n",
    "import matplotlib.pyplot as plt\n",
    "from pylab import *\n",
    "\n",
    "Cm=1.0e-6  #F/cm²                  \n",
    "gNa = 3.32  #μS datas from the the Traub model not exactly the same as us...\n",
    "gCa = 6.64  #μS \n",
    "gK = 3.98  #μS\n",
    "h0=0.6\n",
    "n0=0.4\n",
    "m0=0.05\n",
    "Istim=1.4\n",
    "Vmrest=Vrest( listdico('Ion.csv') )\n",
    "\n",
    "def dgdt(gate,t,a,b):\n",
    "    return (a*(1-gate)-b*gate)\n",
    "def mgate (Vm,time,m0):   \n",
    "    Am=(2.5-0.1*(Vm-Vmrest))/(np.exp(2.5-0.1*(Vm-Vmrest))-1)\n",
    "    Bm=4*np.exp(-Vm/18)\n",
    "    \n",
    "    m=odeint(dgdt,m0,time,args=(Am,Bm))\n",
    "    m=np.array(m).flatten()\n",
    "    return m\n",
    "def ngate (Vm,time,n0):\n",
    "    An=0.01*(10-(Vm-Vmrest))/(np.exp(1-0.1*(Vm-Vmrest))-1)\n",
    "    Bn=0.125*np.exp(-Vm/180)\n",
    "    n=odeint(dgdt,n0,time,args=(An,Bn))\n",
    "    n=np.array(n).flatten()\n",
    "    return n\n",
    "def hgate (Vm, time, h0):\n",
    "    #print(time)\n",
    "    Ah=0.07*np.exp(Vm/20)\n",
    "    Bh=1/(np.exp(3.0-0.1*(Vm-Vmrest))+1)\n",
    "    \n",
    "    h=odeint(dgdt,0.6,time,args=(Ah,Bh))\n",
    "    h=np.array(h).flatten()\n",
    "    #print(h)\n",
    "    return h\n",
    "def Ina(m,h,Vm,VNerst,listdico):\n",
    "    return gNa*((m)**(3))*(h)*(Vm-(float(VNerst(listdico('Ion.csv'))[2])))\n",
    "    \n",
    "def Ik (n,Vm,VNerst,listdico):\n",
    "    Iionk= gK*((n)**(4))*(Vm-(float(VNerst(listdico('Ion.csv'))[1])))\n",
    "    return Iionk\n",
    "\n",
    "def FonctionVm (Vm,t,Ina,Ik,Istim,VNerst,listdico,m0,h0,n0):\n",
    "    gl=0.3  #mS/cm²\n",
    "    Vl=10.613 #mV\n",
    "    return((1/Cm)*(Istim-Ina(mgate(Vm,t,m0),hgate(Vm,t,h0),Vm,VNerst,listdico))-Ik(ngate(Vm,t,n0),Vm,VNerst,listdico)-gl*(Vm-Vl))\n",
    "    \n",
    "time1=np.linspace(0,0.05,10000)\n",
    "Vm1=odeint(FonctionVm,Vmrest,time1,args=((Ina,Ik,10,VNerst,listdico,m0,h0,n0)))\n",
    "Vm1=np.array(Vm1).flatten()\n",
    "\n",
    "plt.plot(time1,Vm1)\n",
    "plt.show()\n",
    "#plt.plot(time1,hgate(30,time1,0.6))\n",
    "\n",
    "\n",
    "def activemenbrane(FonctionVm,Vmrest,Ina,Ik,Istim,VNerst,listdico,tstim,texp,m0,h0,n0):\n",
    "    n=10\n",
    "    n1=100\n",
    "    n2=100000\n",
    "    global L\n",
    "    timerepos=np.linspace(0,0.01,n)\n",
    "    Vm1=odeint(FonctionVm,Vmrest,timerepos,args=((Ina,Ik,0,VNerst,listdico,m0,h0,n0)))\n",
    "    Vm1=np.array(Vm1).flatten()\n",
    "    timestim=np.linspace(0.01,tstim+0.01,n1)\n",
    "    #timestim1=np.linspace(0,tstim,n1)\n",
    "    Vm2=odeint(FonctionVm,Vm1[n-1],timestim,args=((Ina,Ik,Istim,VNerst,listdico,m0,h0,n0)))\n",
    "    #Vm2=odeint(FonctionVm,Vm1[n-1],timestim1,args=((Ina,Ik,Istim,VNerst,listdico)))\n",
    "    Vm2=np.array(Vm2).flatten()\n",
    "    VM1=np.append(Vm1,Vm2)\n",
    "    timeexp=np.linspace(tstim+0.01,texp,n2)\n",
    "    #timeexp1=np.linspace(0,texp-(tstim+0.01),n2)\n",
    "    Vm3=odeint(FonctionVm,VM1[n+n1-1],timeexp,args=((Ina,Ik,0,VNerst,listdico,m0,h0,n0)))\n",
    "    #Vm3=odeint(FonctionVm,VM1[n+n1-1],timeexp1,args=((Ina,Ik,0,VNerst,listdico)))\n",
    "    Vm3=np.array(Vm3).flatten()\n",
    "    VM2=np.append(VM1,Vm3)\n",
    "    global timeactive\n",
    "    timeactive=np.linspace(0,texp,n+n1+n2)\n",
    "   \n",
    "    return timeactive,VM2\n",
    "\n",
    "#plt.plot(activemenbrane(FonctionVm,Vmrest,time,Ina,Ik,Istim,VNerst,listdico,tstim,texp))\n",
    "#plt.title('voltage for active menbrane for')\n",
    "#plt.xlabel('time')\n",
    "#plt.ylabel('voltage')\n",
    "#plt.plot(activemenbrane(FonctionVm,Vmrest,Ina,Ik,Istim,VNerst,listdico,tstim,texp))\n",
    "#plt.title('voltage for active menbrane for')\n",
    "#plt.show()    \n"
   ]
  },
  {
   "cell_type": "markdown",
   "metadata": {
    "collapsed": false
   },
   "source": [
    "# Watch what happend:\n"
   ]
  },
  {
   "cell_type": "code",
   "execution_count": 2,
   "metadata": {
    "collapsed": false,
    "scrolled": false
   },
   "outputs": [
    {
     "name": "stdout",
     "output_type": "stream",
     "text": [
      "mgate\n"
     ]
    },
    {
     "ename": "NameError",
     "evalue": "name 'time1' is not defined",
     "output_type": "error",
     "traceback": [
      "\u001b[0;31m---------------------------------------------------------------------------\u001b[0m",
      "\u001b[0;31mNameError\u001b[0m                                 Traceback (most recent call last)",
      "\u001b[0;32m<ipython-input-2-8d21843a576e>\u001b[0m in \u001b[0;36m<module>\u001b[0;34m()\u001b[0m\n\u001b[1;32m      5\u001b[0m     \u001b[0;32mreturn\u001b[0m \u001b[0ml\u001b[0m\u001b[0;34m\u001b[0m\u001b[0m\n\u001b[1;32m      6\u001b[0m \u001b[0mprint\u001b[0m\u001b[0;34m(\u001b[0m\u001b[0;34m\"mgate\"\u001b[0m\u001b[0;34m)\u001b[0m\u001b[0;34m\u001b[0m\u001b[0m\n\u001b[0;32m----> 7\u001b[0;31m \u001b[0mplt\u001b[0m\u001b[0;34m.\u001b[0m\u001b[0mplot\u001b[0m\u001b[0;34m(\u001b[0m\u001b[0mtime1\u001b[0m\u001b[0;34m,\u001b[0m\u001b[0mwhatchgate\u001b[0m \u001b[0;34m(\u001b[0m\u001b[0mtime1\u001b[0m\u001b[0;34m,\u001b[0m\u001b[0mmgate\u001b[0m\u001b[0;34m,\u001b[0m\u001b[0mVm1\u001b[0m\u001b[0;34m)\u001b[0m\u001b[0;34m)\u001b[0m\u001b[0;34m\u001b[0m\u001b[0m\n\u001b[0m\u001b[1;32m      8\u001b[0m \u001b[0mplt\u001b[0m\u001b[0;34m.\u001b[0m\u001b[0mshow\u001b[0m\u001b[0;34m(\u001b[0m\u001b[0;34m)\u001b[0m\u001b[0;34m\u001b[0m\u001b[0m\n\u001b[1;32m      9\u001b[0m \u001b[0mprint\u001b[0m\u001b[0;34m(\u001b[0m\u001b[0;34m\"ngate\"\u001b[0m\u001b[0;34m)\u001b[0m\u001b[0;34m\u001b[0m\u001b[0m\n",
      "\u001b[0;31mNameError\u001b[0m: name 'time1' is not defined"
     ]
    }
   ],
   "source": [
    "def whatchgate (time,gate,Vmlist):\n",
    "    l=list()\n",
    "    for i in time:\n",
    "        l.append(float(gate(float(Vmlist[i]),float(i),0.4)))\n",
    "    return l\n",
    "print(\"mgate\")\n",
    "plt.plot(time1,whatchgate (time1,mgate,Vm1))\n",
    "plt.show()\n",
    "print(\"ngate\")\n",
    "plt.plot(time1,whatchgate (time1,ngate,Vm1))\n",
    "plt.show()\n",
    "print(\"hgate\")\n",
    "plt.plot(time1,whatchgate (time1,hgate,Vm1))\n",
    "plt.show()\n",
    "       \n",
    "def whatchIk (time,Ik,ngate,Vmlist,VNerst,listdico):\n",
    "    ik=[]\n",
    "    for i in time:\n",
    "        ik.append(float(Ik(ngate(Vm1[i],i,n0),Vmlist[i],VNerst,listdico)))\n",
    "    return ik\n",
    "def whatchIna (time,Ina,mgate,hgate,Vmlist,VNerst,listdico):\n",
    "    ik=[]\n",
    "    for i in time:\n",
    "        ik.append(float(Ina(mgate(Vm1[i],i,m0),hgate(Vm1[i],i,h0),Vmlist[i],VNerst,listdico,)))\n",
    "    return ik\n",
    "print('Ik')                 \n",
    "plt.plot(time1,whatchIk (time1,Ik,ngate,Vm1,VNerst,listdico))\n",
    "plt.show()\n",
    "print('Ina')\n",
    "plt.plot(time1,whatchIna (time1,Ina,mgate,hgate,Vm1,VNerst,listdico))\n",
    "plt.show()\n"
   ]
  },
  {
   "cell_type": "markdown",
   "metadata": {},
   "source": [
    "# Better way to medelise a active menbrane ( put without good result...)"
   ]
  },
  {
   "cell_type": "code",
   "execution_count": 17,
   "metadata": {
    "collapsed": false,
    "scrolled": true
   },
   "outputs": [
    {
     "name": "stdout",
     "output_type": "stream",
     "text": [
      "Istim cst\n"
     ]
    },
    {
     "data": {
      "image/png": "[encoded data removed]",
      "text/plain": [
       "<matplotlib.figure.Figure at 0x7f00169e3710>"
      ]
     },
     "metadata": {},
     "output_type": "display_data"
    },
    {
     "data": {
      "image/png": "[encoded data removed]",
      "text/plain": [
       "<matplotlib.figure.Figure at 0x7f0016d63eb8>"
      ]
     },
     "metadata": {},
     "output_type": "display_data"
    }
   ],
   "source": [
    "% matplotlib inline\n",
    "from scipy.integrate import odeint\n",
    "import numpy as np\n",
    "import matplotlib.pyplot as plt\n",
    "from pylab import *\n",
    "\n",
    "#Cm=1.0e-2 #F/cm²                  \n",
    "#gNa = 3.32 #μS datas from the the Traub model not exactly the same as us...\n",
    "#gCa = 6.64  #μS \n",
    "#gK = 3.98  #μS\n",
    "#Vmrest=Vrest( listdico('Ion.csv') )\n",
    "Vmrest=-70\n",
    "h0=0\n",
    "n0=0\n",
    "m0=0\n",
    "V0=-60\n",
    "Istim=0\n",
    "#gl=0.3  #mS/cm²\n",
    "#Vl=10.613 #mV\n",
    "tstim=0.3\n",
    "texp=600\n",
    "#Cm = 0.01\n",
    "#gNa = 120\n",
    "#gK = 36\n",
    "#gl = 0.3\n",
    "#vNa = 55.15\n",
    "#vK = -49.42\n",
    "#Vl = -72.14\n",
    "Cm = 0.01\n",
    "gNa = 1.20\n",
    "gK = 0.36\n",
    "gL = 0.003\n",
    "vNa = 55.15\n",
    "vK = -49.42\n",
    "vL = -72.14\n",
    "\n",
    "\n",
    "\n",
    "def FVm(y,t,gNa,Istim):\n",
    "    #Am=(2.5-0.1*(y[0]-Vmrest))/(np.exp(2.5-0.1*(y[0]-Vmrest))-1)\n",
    "    \n",
    "    #Bm=4*np.exp(-y[0]/18)\n",
    "    #An=0.01*(10-(y[0]-Vmrest))/(np.exp(1-0.1*(y[0]-Vmrest))-1)\n",
    "    #Bn=0.125*np.exp(-(y[0]-Vmrest)/80) \n",
    "    #Ah=0.7*np.exp((y[0]-Vmrest)/20) \n",
    "    #Bh=1/(np.exp(3.0-0.1*(y[0]-Vmrest))+1)\n",
    "    \n",
    "    An = (0.01*(y[0]+50.0))/(1.0-np.exp(-(y[0]+50.0)/10.0))\n",
    "    Bn = 0.125*np.exp(-(y[0]+60.0)/80.0)\n",
    "    Am = (0.1*(y[0]+35.0))/(1-np.exp(-(y[0]+35.0)/10.0))\n",
    "    Bm = 4.0*np.exp(-(y[0]+60.0)/18.0)\n",
    "    Ah = 0.07*np.exp(-(y[0]+60.0)/20.0)\n",
    "    Bh = 1.0/(1.0+np.exp(-(y[0]+30.0)/10.0))   \n",
    "    #dVmdt=(1/Cm)*(Istim-gNa*(y[1]**(3))*(y[2])*(y[0]-(float(VNerst(listdico('Ion.csv'))[2])))-gK*(y[3]**(4))*(y[0]-(float(VNerst(listdico('Ion.csv'))[1])))-gl*(y[0]-Vl))\n",
    "    dVmdt=(1/Cm)*(Istim-gNa*(y[1]**(3))*(y[2])*(y[0]-vNa)-gK*(y[3]**(4))*(y[0]-vK)-gL*(y[0]-vL))\n",
    "    dmdt=Am*(1-y[1])-Bm*y[1]\n",
    "    dndt=An*(1-y[3])-Bn*y[3]\n",
    "    dhdt=Ah*(1-y[2])-Bh*y[2]\n",
    "    #y[0]=Vm    y[1]=m     y[2]=h   y[3]=n \n",
    "    return [dVmdt,dmdt,dhdt,dndt ]\n",
    "\n",
    "y0=[V0,m0,h0,n0]\n",
    "\n",
    "time1=np.linspace(0,500,100000)\n",
    "Vm1=odeint(FVm,y0,time1,args=(gNa,Istim))\n",
    "VM , m , h , n = Vm1[:,0] , Vm1[:,1] , Vm1[:,2] ,  Vm1[:,3] \n",
    "\n",
    "print('Istim cst')\n",
    "plt.plot(time1,VM)\n",
    "plt.show()\n",
    "plt.plot(time1,m)\n",
    "plt.plot(time1,h)\n",
    "plt.plot(time1,n)\n",
    "plt.show()\n",
    "\n"
   ]
  },
  {
   "cell_type": "code",
   "execution_count": 19,
   "metadata": {
    "collapsed": false
   },
   "outputs": [
    {
     "name": "stdout",
     "output_type": "stream",
     "text": [
      "Vmactive\n"
     ]
    },
    {
     "data": {
      "image/png": "[encoded data removed]",
      "text/plain": [
       "<matplotlib.figure.Figure at 0x7f00169e1da0>"
      ]
     },
     "metadata": {},
     "output_type": "display_data"
    },
    {
     "data": {
      "image/png": "[encoded data removed]",
      "text/plain": [
       "<matplotlib.figure.Figure at 0x7f00169c7080>"
      ]
     },
     "metadata": {},
     "output_type": "display_data"
    }
   ],
   "source": [
    "def activemenbrane(FonctionVm,Vmrest,Ina,Ik,Istim,VNerst,listdico,tstim,texp,m0,h0,n0):\n",
    "    n1=100\n",
    "    n2=1000\n",
    "    n3=100000\n",
    "    global L\n",
    "    timerepos=np.linspace(0,0.1,n1)\n",
    "    y0=[V0,m0,h0,n0]\n",
    "    Vm1=odeint(FVm,y0,timerepos,args=(gNa,Istim))\n",
    "    VM , m , h , n = Vm1[:,0] , Vm1[:,1] , Vm1[:,2] ,  Vm1[:,3]\n",
    "    timestim=np.linspace(0.01,tstim+0.1,n2)\n",
    "    #timestim1=np.linspace(0,tstim,n1)\n",
    "    y1=list()\n",
    "    y1=[VM[n1-1],m[n1-1],h[n1-1],n[n1-1]]\n",
    "    Vm2=odeint(FVm,y1,timestim,args=(gNa,Istim))\n",
    "    VM=np.append(VM,Vm2[:,0])\n",
    "    m=np.append(m,Vm2[:,1])\n",
    "    n=np.append(n,Vm2[:,3])\n",
    "    h=np.append(h,Vm2[:,2])\n",
    "    #Vm2=odeint(FonctionVm,Vm1[n-1],timestim1,args=((Ina,Ik,Istim,VNerst,listdico)))\n",
    "    timeexp=np.linspace(tstim+0.1,texp,n3)\n",
    "    #timeexp1=np.linspace(0,texp-(tstim+0.01),n2)\n",
    "    y2=[VM[n1+n2-2],m[n1+n2-2],h[n1+n2-2],n[n1+n2-2]]\n",
    "    Vm3=odeint(FVm,y2,timeexp,args=(gNa,Istim))\n",
    "    #Vm3=odeint(FonctionVm,VM1[n+n1-1],timeexp1,args=((Ina,Ik,0,VNerst,listdico)))\n",
    "    VM=np.append(VM,Vm3[:,0])\n",
    "    m=np.append(m,Vm3[:,1])\n",
    "    n=np.append(n,Vm3[:,3])\n",
    "    h=np.append(h,Vm3[:,2])\n",
    "    global timeactive\n",
    "    timeactive=np.linspace(0,texp,n1+n2+n3)\n",
    "   \n",
    "    return timeactive,VM, m, h,n\n",
    "timeactive, VM ,m , h ,n = activemenbrane(FonctionVm,Vmrest,Ina,Ik,10,VNerst,listdico,tstim,texp,m0,h0,n0)\n",
    "print('Vmactive')\n",
    "plt.plot(timeactive,VM)\n",
    "plt.show()\n",
    "plt.plot(timeactive,m)\n",
    "plt.plot(timeactive,n)\n",
    "plt.plot(timeactive,h)\n",
    "plt.show()"
   ]
  },
  {
   "cell_type": "markdown",
   "metadata": {
    "collapsed": true
   },
   "source": [
    "\n",
    "Hodking-Huxley parameters\n",
    "My equation reads like this,\n",
    "I M = 0 = C M\n",
    "(∂eq )V M + ∑ g i V M − V i − I stim\n",
    "∂t\n",
    "Cm = 0.01\n",
    "gNa = 1.20\n",
    "gK = 0.36\n",
    "gL = 0.003\n",
    "vNa = 55.15\n",
    "vK = -49.42\n",
    "VL = -72.14\n",
    "2\n",
    "Gating functions\n",
    "alpha_n(double V) = (0.01(V+50.0))/(1.0-exp(-(V+50.0)/10.0))\n",
    "beta_n(double V) = 0.125*exp(-(V+60.0)/80.0)\n",
    "alpha_m(double V) = (0.1(V+35.0))/(1-exp(-(V+35.0)/10.0))\n",
    "beta_m(double V) = 4.0exp(-(V+60.0)/18.0)\n",
    "alpha_h(double V) = 0.07*exp(-(V+60.0)/20.0)\n",
    "beta_h(double V) = 1.0/(1.0+exp(-(V+30.0)/10.0))\n",
    "\n",
    "\n",
    "An = (0.01*(y[0]+50.0))/(1.0-np.exp(-(y[0]+50.0)/10.0))\n",
    "    Bn = 0.125*np.exp(-(y[0]+60.0)/80.0)\n",
    "    Am = (0.1*(y[0]+35.0))/(1-np.exp(-(y[0]+35.0)/10.0))\n",
    "    Bm = 4.0*np.exp(-(y[0]+60.0)/18.0)\n",
    "    Ah = 0.07*np.exp(-(y[0]+60.0)/20.0)\n",
    "    Bh = 1.0/(1.0+np.exp(-(y[0]+30.0)/10.0))"
   ]
  },
  {
   "cell_type": "code",
   "execution_count": null,
   "metadata": {
    "collapsed": true
   },
   "outputs": [],
   "source": []
  }
 ],
 "metadata": {
  "kernelspec": {
   "display_name": "Python 3",
   "language": "python",
   "name": "python3"
  },
  "language_info": {
   "codemirror_mode": {
    "name": "ipython",
    "version": 3
   },
   "file_extension": ".py",
   "mimetype": "text/x-python",
   "name": "python",
   "nbconvert_exporter": "python",
   "pygments_lexer": "ipython3",
   "version": "3.6.0"
  }
 },
 "nbformat": 4,
 "nbformat_minor": 2
}
