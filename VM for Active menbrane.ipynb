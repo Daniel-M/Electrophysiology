{
 "cells": [
  {
   "cell_type": "code",
   "execution_count": 3,
   "metadata": {
    "collapsed": false
   },
   "outputs": [
    {
     "name": "stdout",
     "output_type": "stream",
     "text": [
      "Istim cst\n"
     ]
    },
    {
     "data": {
      "image/png": "[encoded data removed]",
      "text/plain": [
       "<matplotlib.figure.Figure at 0x7ff38863ee10>"
      ]
     },
     "metadata": {},
     "output_type": "display_data"
    },
    {
     "data": {
      "image/png": "[encoded data removed]",
      "text/plain": [
       "<matplotlib.figure.Figure at 0x7ff38855a6d8>"
      ]
     },
     "metadata": {},
     "output_type": "display_data"
    }
   ],
   "source": [
    "% matplotlib inline\n",
    "from scipy.integrate import odeint\n",
    "import numpy as np\n",
    "import matplotlib.pyplot as plt\n",
    "from pylab import *\n",
    "h0=0.6\n",
    "n0=0\n",
    "m0=0\n",
    "V0=-60\n",
    "Istim=1\n",
    "Cm = 0.01\n",
    "gNa = 1.20\n",
    "gK = 0.36\n",
    "gL = 0.003\n",
    "\n",
    "vNa = 55.15\n",
    "vK = -49.42\n",
    "vL = -72.14\n",
    "\n",
    "def FVm(y,t,gNa,Istim):\n",
    "    \n",
    "    An = (0.01*(-y[0]-50.0))/(np.exp(-(y[0]+50.0)/10.0)-1)\n",
    "    #An = (0.01(y[0]+50.0))/(1.0-np.exp(-(y[0]+50.0)/10.0))  Egual than the other An\n",
    "    Bn = 0.125*np.exp(-(y[0]+60.0)/80.0)\n",
    "    Am = (0.1*(-y[0]-35.0))/(np.exp(-(y[0]+35.0)/10.0)-1)\n",
    "    #Am = (0.1(y[0]+35.0))/(1-np.exp(-(y[0]+35.0)/10.0))  Egual than the other Am\n",
    "    Bm = 4.0*np.exp(-(y[0]+60.0)/18.0)\n",
    "    Ah = 0.07*np.exp(-(y[0]+60.0)/20.0)\n",
    "    Bh = 1.0/(1.0+np.exp(-(y[0]+30.0)/10.0)) \n",
    "    dVmdt=(1/Cm)*(Istim-gNa*(np.power((y[1]),(3)))*(y[2])*(y[0]-vNa)-gK*(np.power((y[3]),(4)))*(y[0]-vK)-gL*(y[0]-vL))\n",
    "    dmdt= Am*(1-y[1])-Bm*y[1]\n",
    "    dndt= An*(1-y[3])-Bn*y[3]\n",
    "    dhdt= Ah*(1-y[2])-Bh*y[2]\n",
    "   \n",
    "    \n",
    "    #y[0]=Vm    y[1]=m     y[2]=h   y[3]=n  \n",
    "\n",
    "    return [dVmdt,dmdt,dhdt,dndt ]\n",
    "\n",
    "\n",
    "\n",
    "y0=[V0,m0,h0,n0]\n",
    "\n",
    "time1=np.linspace(0,50,1000)\n",
    "Vm1=odeint(FVm,y0,time1,args=(gNa,Istim))\n",
    "VM , m , h , n = Vm1[:,0] , Vm1[:,1] , Vm1[:,2] ,  Vm1[:,3] \n",
    "\n",
    "print('Istim cst')\n",
    "plt.plot(time1,VM)\n",
    "plt.show()\n",
    "plt.plot(time1,m)\n",
    "plt.plot(time1,h)\n",
    "plt.plot(time1,n)\n",
    "plt.show()\n",
    "\n"
   ]
  },
  {
   "cell_type": "code",
   "execution_count": null,
   "metadata": {
    "collapsed": true
   },
   "outputs": [],
   "source": []
  },
  {
   "cell_type": "code",
   "execution_count": null,
   "metadata": {
    "collapsed": true
   },
   "outputs": [],
   "source": []
  }
 ],
 "metadata": {
  "kernelspec": {
   "display_name": "Python 3",
   "language": "python",
   "name": "python3"
  },
  "language_info": {
   "codemirror_mode": {
    "name": "ipython",
    "version": 3
   },
   "file_extension": ".py",
   "mimetype": "text/x-python",
   "name": "python",
   "nbconvert_exporter": "python",
   "pygments_lexer": "ipython3",
   "version": "3.6.0"
  }
 },
 "nbformat": 4,
 "nbformat_minor": 2
}
